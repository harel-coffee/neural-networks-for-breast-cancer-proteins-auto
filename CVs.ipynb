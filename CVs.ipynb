{
 "cells": [
  {
   "cell_type": "markdown",
   "metadata": {},
   "source": [
    "# Prediction of Breast Cancer peptides with MLP classifier and different n-fold CVs"
   ]
  },
  {
   "cell_type": "code",
   "execution_count": 1,
   "metadata": {},
   "outputs": [],
   "source": [
    "%reload_ext autoreload\n",
    "%autoreload 2\n",
    "%matplotlib inline\n",
    "\n",
    "# remove warnings\n",
    "import warnings\n",
    "warnings.filterwarnings(\"ignore\", category=DeprecationWarning) "
   ]
  },
  {
   "cell_type": "code",
   "execution_count": 2,
   "metadata": {},
   "outputs": [],
   "source": [
    "import numpy as np\n",
    "import pandas as pd\n",
    "import time\n",
    "import matplotlib.pyplot as plt\n",
    "\n",
    "from sklearn.pipeline import Pipeline\n",
    "from sklearn.model_selection import cross_val_score, GridSearchCV, StratifiedKFold\n",
    "from sklearn.metrics import confusion_matrix,accuracy_score, roc_auc_score,f1_score, recall_score, precision_score\n",
    "from sklearn.utils import class_weight\n",
    "\n",
    "from sklearn.neighbors import KNeighborsClassifier\n",
    "from sklearn.linear_model import LogisticRegression, LassoCV\n",
    "from sklearn.tree import DecisionTreeClassifier\n",
    "from sklearn.ensemble import RandomForestClassifier, ExtraTreesClassifier\n",
    "from xgboost import XGBClassifier\n",
    "from sklearn.svm import SVC\n",
    "from sklearn.gaussian_process.kernels import RBF\n",
    "from sklearn.svm import LinearSVC\n",
    "\n",
    "from sklearn.decomposition import PCA\n",
    "from sklearn.preprocessing import StandardScaler, MinMaxScaler, RobustScaler\n",
    "from sklearn.feature_selection import RFECV, VarianceThreshold, SelectKBest, chi2\n",
    "from sklearn.feature_selection import SelectFromModel, SelectPercentile, f_classif\n",
    "\n",
    "import seaborn as sns; sns.set() # data visualization library \n",
    "from sklearn.discriminant_analysis import LinearDiscriminantAnalysis\n",
    "from sklearn.neural_network import MLPClassifier\n",
    "from sklearn.ensemble import GradientBoostingClassifier, BaggingClassifier, AdaBoostClassifier\n",
    "from sklearn.naive_bayes import BernoulliNB, GaussianNB\n",
    "from imblearn.over_sampling import SMOTE"
   ]
  },
  {
   "cell_type": "code",
   "execution_count": 3,
   "metadata": {},
   "outputs": [],
   "source": [
    "from myFunctions import *\n",
    "\n",
    "# define output variables\n",
    "outVar = 'Class'\n",
    "\n",
    "# define a label for output files\n",
    "label = 'Outer'\n",
    "\n",
    "seed = 74"
   ]
  },
  {
   "cell_type": "markdown",
   "metadata": {},
   "source": [
    "## Individual ML and preprocessing"
   ]
  },
  {
   "cell_type": "code",
   "execution_count": 4,
   "metadata": {},
   "outputs": [
    {
     "name": "stdout",
     "output_type": "stream",
     "text": [
      "\n",
      "-> Read dataset ./best_classifier/Mix_BreastCancer.ds_bal.csv\n",
      "301\n"
     ]
    }
   ],
   "source": [
    "# read dataset for the best model: normalized, selected features, ballanced\n",
    "sFile = './best_classifier/Mix_BreastCancer.ds_bal.csv'\n",
    "\n",
    "print('\\n-> Read dataset', sFile)\n",
    "df = pd.read_csv(sFile)\n",
    "print(len(df.columns))"
   ]
  },
  {
   "cell_type": "code",
   "execution_count": 5,
   "metadata": {},
   "outputs": [
    {
     "data": {
      "text/plain": [
       "(466, 301)"
      ]
     },
     "execution_count": 5,
     "metadata": {},
     "output_type": "execute_result"
    }
   ],
   "source": [
    "df.shape"
   ]
  },
  {
   "cell_type": "markdown",
   "metadata": {},
   "source": [
    "### ML"
   ]
  },
  {
   "cell_type": "code",
   "execution_count": 6,
   "metadata": {},
   "outputs": [
    {
     "name": "stdout",
     "output_type": "stream",
     "text": [
      "\n",
      "-> Get X & Y data, Features list\n",
      "Shape (466, 301)\n",
      "Shape X data: (466, 300)\n",
      "Shape Y data: (466,)\n",
      "Done!\n"
     ]
    }
   ],
   "source": [
    "# get ds for ML\n",
    "Xdata, Ydata, Features = getDataFromDataFrame(df)# out var = Class "
   ]
  },
  {
   "cell_type": "code",
   "execution_count": 7,
   "metadata": {},
   "outputs": [
    {
     "name": "stdout",
     "output_type": "stream",
     "text": [
      "Class weights =  {0: 1.0, 1: 1.0}\n"
     ]
    }
   ],
   "source": [
    "# Calculate class weights\n",
    "class_weights = set_weights(Ydata)\n",
    "print(\"Class weights = \", class_weights)"
   ]
  },
  {
   "cell_type": "code",
   "execution_count": 9,
   "metadata": {},
   "outputs": [
    {
     "name": "stdout",
     "output_type": "stream",
     "text": [
      "*** MLP results 5-folds CV:\n",
      "Fold = 1\n",
      "AUROC= 0.9624264373019467 ACC= 0.9361702127659575 0.010976902643839518 mins\n",
      "Fold = 2\n",
      "AUROC= 0.9949121184088807 ACC= 0.967741935483871 0.012082143624623617 mins\n",
      "Fold = 3\n",
      "AUROC= 0.9875115633672525 ACC= 0.9354838709677419 0.013023630777994791 mins\n",
      "Fold = 4\n",
      "AUROC= 0.9967622571692877 ACC= 0.956989247311828 0.013416580359141032 mins\n",
      "Fold = 5\n",
      "AUROC= 0.9953746530989824 ACC= 0.9354838709677419 0.01189046303431193 mins\n",
      "-> Mean AUROC = 0.9873974058692699 SD AUROC = 0.012894728542415898\n",
      "-> Mean ACC = 0.9463738274994281 SD ACC = 0.013495030468890643\n",
      "*** MLP results 10-folds CV:\n",
      "Fold = 1\n",
      "AUROC= 0.9601449275362319 ACC= 0.9148936170212766 0.015934797128041585 mins\n",
      "Fold = 2\n",
      "AUROC= 0.9510869565217391 ACC= 0.9148936170212766 0.014011184374491373 mins\n",
      "Fold = 3\n",
      "AUROC= 1.0 ACC= 0.9787234042553191 0.014663596947987875 mins\n",
      "Fold = 4\n",
      "AUROC= 0.9873188405797101 ACC= 0.9361702127659575 0.015037699540456136 mins\n",
      "Fold = 5\n",
      "AUROC= 0.9728260869565218 ACC= 0.9148936170212766 0.014894509315490722 mins\n",
      "Fold = 6\n",
      "AUROC= 0.9818840579710145 ACC= 0.9148936170212766 0.014271374543507893 mins\n",
      "Fold = 7\n",
      "AUROC= 0.9905482041587902 ACC= 0.9565217391304348 0.01387771765391032 mins\n",
      "Fold = 8\n",
      "AUROC= 0.9943289224952742 ACC= 0.9565217391304348 0.014260244369506837 mins\n",
      "Fold = 9\n",
      "AUROC= 0.998109640831758 ACC= 0.9565217391304348 0.013875146706899008 mins\n",
      "Fold = 10\n",
      "AUROC= 0.9943289224952742 ACC= 0.9565217391304348 0.015482803185780844 mins\n",
      "-> Mean AUROC = 0.9830576559546313 SD AUROC = 0.015795997145970363\n",
      "-> Mean ACC = 0.9400555041628124 SD ACC = 0.022643612390543834\n"
     ]
    }
   ],
   "source": [
    "# define no of folds\n",
    "nfolds = [5,10]\n",
    "\n",
    "# for each fold CV create a ML classifier\n",
    "for nfold in nfolds:\n",
    "    \n",
    "    # create stratified folds\n",
    "    outer_cv = StratifiedKFold(n_splits=nfold,shuffle=True,random_state=seed)\n",
    "\n",
    "    # define lists for results\n",
    "    ifold = 0\n",
    "    ACCs  =[]\n",
    "    AUROCs=[]\n",
    "\n",
    "    print(\"*** MLP results \"+str(nfold)+\"-folds CV:\")\n",
    "    for train_index, test_index in outer_cv.split(Xdata, Ydata):\n",
    "        ifold +=1\n",
    "\n",
    "        print(\"Fold =\",ifold)\n",
    "        start = time.time()\n",
    "\n",
    "        #print(\"TRAIN:\", train_index, \"TEST:\", test_index)\n",
    "        X_train, X_test = Xdata[train_index], Xdata[test_index]\n",
    "        y_train, y_test = Ydata[train_index], Ydata[test_index]\n",
    "\n",
    "        #scaler.transform(X_test)\n",
    "        clf = MLPClassifier(hidden_layer_sizes= (20),\n",
    "                            random_state = seed,\n",
    "                            max_iter=50000, shuffle=False)\n",
    "        clf.fit(X_train, y_train)\n",
    "\n",
    "        joblib.dump(clf, './best_classifier/MLP_model-'+str(nfold)+'-foldCV-'+str(ifold)+'.pkl', compress = 1)\n",
    "\n",
    "        y_pred = clf.predict_proba(X_test)\n",
    "        AUROC = roc_auc_score(y_test, y_pred[:, 1])\n",
    "        AUROCs.append(AUROC)\n",
    "\n",
    "        ACC = clf.score(X_test,y_test)\n",
    "        ACCs.append(ACC)\n",
    "\n",
    "        print(\"AUROC=\",AUROC,\"ACC=\",ACC, (time.time() - start)/60,\"mins\")\n",
    "\n",
    "    print(\"-> Mean AUROC =\", np.mean(AUROCs), \"SD AUROC =\",np.std(AUROCs))\n",
    "    print(\"-> Mean ACC =\", np.mean(ACCs), \"SD ACC =\",np.std(ACCs))    "
   ]
  },
  {
   "cell_type": "markdown",
   "metadata": {},
   "source": [
    "Have fun with ML! @muntisa"
   ]
  }
 ],
 "metadata": {
  "kernelspec": {
   "display_name": "Python 3",
   "language": "python",
   "name": "python3"
  },
  "language_info": {
   "codemirror_mode": {
    "name": "ipython",
    "version": 3
   },
   "file_extension": ".py",
   "mimetype": "text/x-python",
   "name": "python",
   "nbconvert_exporter": "python",
   "pygments_lexer": "ipython3",
   "version": "3.7.6"
  }
 },
 "nbformat": 4,
 "nbformat_minor": 4
}
