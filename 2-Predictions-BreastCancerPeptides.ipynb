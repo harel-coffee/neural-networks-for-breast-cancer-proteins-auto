{
 "cells": [
  {
   "cell_type": "markdown",
   "metadata": {},
   "source": [
    "# Prediction of Breast Cancer peptides with the best MLP classifier"
   ]
  },
  {
   "cell_type": "code",
   "execution_count": null,
   "metadata": {},
   "outputs": [],
   "source": [
    "%reload_ext autoreload\n",
    "%autoreload 2\n",
    "%matplotlib inline\n",
    "\n",
    "# remove warnings\n",
    "import warnings\n",
    "warnings.filterwarnings(\"ignore\", category=DeprecationWarning) "
   ]
  },
  {
   "cell_type": "code",
   "execution_count": null,
   "metadata": {},
   "outputs": [],
   "source": [
    "import numpy as np\n",
    "import pandas as pd\n",
    "import time\n",
    "import matplotlib.pyplot as plt\n",
    "\n",
    "from sklearn.pipeline import Pipeline\n",
    "from sklearn.model_selection import cross_val_score, GridSearchCV, StratifiedKFold\n",
    "from sklearn.metrics import confusion_matrix,accuracy_score, roc_auc_score,f1_score, recall_score, precision_score\n",
    "from sklearn.utils import class_weight\n",
    "\n",
    "from sklearn.neighbors import KNeighborsClassifier\n",
    "from sklearn.linear_model import LogisticRegression, LassoCV\n",
    "from sklearn.tree import DecisionTreeClassifier\n",
    "from sklearn.ensemble import RandomForestClassifier, ExtraTreesClassifier\n",
    "from xgboost import XGBClassifier\n",
    "from sklearn.svm import SVC\n",
    "from sklearn.gaussian_process.kernels import RBF\n",
    "from sklearn.svm import LinearSVC\n",
    "\n",
    "from sklearn.decomposition import PCA\n",
    "from sklearn.preprocessing import StandardScaler, MinMaxScaler, RobustScaler\n",
    "from sklearn.feature_selection import RFECV, VarianceThreshold, SelectKBest, chi2\n",
    "from sklearn.feature_selection import SelectFromModel, SelectPercentile, f_classif\n",
    "\n",
    "import seaborn as sns; sns.set() # data visualization library \n",
    "from sklearn.discriminant_analysis import LinearDiscriminantAnalysis\n",
    "from sklearn.neural_network import MLPClassifier\n",
    "from sklearn.ensemble import GradientBoostingClassifier, BaggingClassifier, AdaBoostClassifier\n",
    "from sklearn.naive_bayes import BernoulliNB, GaussianNB\n",
    "from imblearn.over_sampling import SMOTE"
   ]
  },
  {
   "cell_type": "code",
   "execution_count": null,
   "metadata": {},
   "outputs": [],
   "source": [
    "from myFunctions import *\n",
    "\n",
    "# define output variables\n",
    "outVar = 'Class'\n",
    "\n",
    "# define list of folds\n",
    "nfold = 3\n",
    "\n",
    "# define a label for output files\n",
    "label = 'Outer'\n",
    "\n",
    "seed = 74"
   ]
  },
  {
   "cell_type": "markdown",
   "metadata": {},
   "source": [
    "## Individual ML and preprocessing"
   ]
  },
  {
   "cell_type": "code",
   "execution_count": null,
   "metadata": {},
   "outputs": [],
   "source": [
    "# read dataset for the best model (it will generate: Mix-Best300)\n",
    "sFile = './best_classifier/Mix_BreastCancer.csv'\n",
    "\n",
    "print('\\n-> Read dataset', sFile)\n",
    "df = pd.read_csv(sFile)\n",
    "print(len(df.columns))"
   ]
  },
  {
   "cell_type": "markdown",
   "metadata": {},
   "source": [
    "### Preprocessing"
   ]
  },
  {
   "cell_type": "code",
   "execution_count": null,
   "metadata": {},
   "outputs": [],
   "source": [
    "# Clean columns (remove all extra columns but keep ProtID!)\n",
    "df = ClearDatasets(df)\n",
    "print(len(df.columns))\n",
    "\n",
    "# drop ProtID to have only descriptors + Class (raw dataset)\n",
    "print('\\n-> Drop ProtID column')\n",
    "df= df.drop(['ProtID'],axis = 1)\n",
    "print('Done!')\n",
    "print(len(df.columns))\n",
    "\n",
    "# Check dataset\n",
    "DataCheckings(df)\n",
    "\n",
    "# Dataset preprocessing\n",
    "df = DataPreprocessing(df)\n",
    "print(len(df.columns))\n",
    "\n",
    "# Remove zero variance columns\n",
    "df = Remove0VarCols(df)"
   ]
  },
  {
   "cell_type": "code",
   "execution_count": null,
   "metadata": {},
   "outputs": [],
   "source": [
    "df.shape"
   ]
  },
  {
   "cell_type": "code",
   "execution_count": null,
   "metadata": {},
   "outputs": [],
   "source": [
    "# Save initial ds\n",
    "rawFile = sFile[:-4]+'.ds_raw.csv'\n",
    "print('\\n-> Save raw dataset:',rawFile)\n",
    "df.to_csv(rawFile, index=False)\n",
    "print('Done!')"
   ]
  },
  {
   "cell_type": "code",
   "execution_count": null,
   "metadata": {},
   "outputs": [],
   "source": [
    "# read the prediction file with the same descriptors (all from Mix)\n",
    "# read dataset for the best model (it will generate: Mix-Best300)\n",
    "sFilep = './best_classifier/Screening_3_RBPs.csv' \n",
    "# Screening_1_Metastasis.csv, Screening_2_Cancer_Immunotherapy_Genes.csv\n",
    "\n",
    "print('\\n-> Read dataset', sFilep)\n",
    "dfp = pd.read_csv(sFilep)\n",
    "print(len(dfp.columns))"
   ]
  },
  {
   "cell_type": "code",
   "execution_count": null,
   "metadata": {},
   "outputs": [],
   "source": [
    "# Preprocessing of prediction file\n",
    "# Clean columns (remove all extra columns but keep ProtID!)\n",
    "#df = ClearDatasets(df)\n",
    "#print(len(df.columns))\n",
    "\n",
    "# drop ProtID to have only descriptors + Class (raw dataset)\n",
    "#print('\\n-> Drop ProtID column')\n",
    "#df= df.drop(['ProtID'],axis = 1)\n",
    "#print('Done!')\n",
    "#print(len(df.columns))\n",
    "\n",
    "# Check dataset\n",
    "print(DataCheckings(dfp))"
   ]
  },
  {
   "cell_type": "code",
   "execution_count": null,
   "metadata": {},
   "outputs": [],
   "source": [
    "# Select the same features as the dataset\n",
    "dfp = dfp[list(df.columns)]\n",
    "dfp.shape"
   ]
  },
  {
   "cell_type": "code",
   "execution_count": null,
   "metadata": {},
   "outputs": [],
   "source": [
    "# Scale raw dataframe\n",
    "# scale dataframe, save scaled file, save scaler\n",
    "Xdata, Ydata, Features = getDataFromDataFrame(df)# out var = Class\n",
    "Xdatap, Ydatap, Featuresp = getDataFromDataFrame(dfp)# prediction data\n",
    "\n",
    "# Normalize dataset & prediction set\n",
    "scaler = MinMaxScaler()\n",
    "Xdata = scaler.fit_transform(Xdata)\n",
    "Xdatap = scaler.transform(Xdatap) # scaler prediction data with the same scaler\n",
    "\n",
    "df = pd.DataFrame(Xdata,columns=Features)\n",
    "df['Class'] = Ydata # add class column\n",
    "\n",
    "dfp = pd.DataFrame(Xdatap,columns=Featuresp)\n",
    "dfp['Class'] = Ydatap # add class column\n",
    "\n",
    "scalerFile = sFile[:-4]+'.scaler_Std.pkl'\n",
    "print('* Save scaler:', scalerFile)\n",
    "joblib.dump(scaler, scalerFile) \n",
    "\n",
    "# Save initial ds\n",
    "scaledFile = sFile[:-4]+'.ds_std.csv'\n",
    "print('* Save scaled dataset:', scaledFile)\n",
    "df.to_csv(scaledFile, index=False)\n",
    "\n",
    "# Save initial ds for predictions\n",
    "scaledFilep = sFilep[:-4]+'.ds_std.csv'\n",
    "print('* Save scaled dataset:', scaledFilep)\n",
    "dfp.to_csv(scaledFilep, index=False)\n",
    "\n",
    "print('Done!')"
   ]
  },
  {
   "cell_type": "code",
   "execution_count": null,
   "metadata": {},
   "outputs": [],
   "source": [
    "nFeats = 300\n",
    "\n",
    "Xdata, Ydata, Features = getDataFromDataFrame(df)# out var = Class\n",
    "\n",
    "print('\\n-> Univariate Feature selection')\n",
    "selector= SelectKBest(chi2, k=nFeats)\n",
    "Xdata = selector.fit_transform(Xdata, Ydata)\n",
    "    \n",
    "selectorFile = sFile[:-4]+'.featSelector_Univariate'+str(nFeats)+'.pkl'\n",
    "print('* Save selector:', selectorFile)\n",
    "joblib.dump(selector, selectorFile) \n",
    "    \n",
    "# Selected features\n",
    "SelFeatures = []\n",
    "for i in selector.get_support(indices=True):\n",
    "    SelFeatures.append(Features[i])\n",
    "        \n",
    "# create the resulted dataframe\n",
    "df = pd.DataFrame(Xdata,columns=SelFeatures)\n",
    "df['Class'] = Ydata # add class column\n",
    "print('Final columns:', list(df.columns))\n",
    "    \n",
    "# Save selected feature ds\n",
    "selectFile = sFile[:-4]+'.ds_sel.csv'\n",
    "print('* Save selected features dataset:', selectFile)\n",
    "df.to_csv(selectFile, index=False)\n",
    "\n",
    "# create the resulted dataframe for predictions\n",
    "dfp = dfp[list(df.columns)]\n",
    "    \n",
    "# Save selected feature ds\n",
    "selectFilep = sFilep[:-4]+'.ds_sel.csv'\n",
    "print('* Save selected features dataset:', selectFilep)\n",
    "dfp.to_csv(selectFilep, index=False)\n",
    "    \n",
    "print('Done!')"
   ]
  },
  {
   "cell_type": "code",
   "execution_count": null,
   "metadata": {},
   "outputs": [],
   "source": [
    "df.shape"
   ]
  },
  {
   "cell_type": "code",
   "execution_count": null,
   "metadata": {},
   "outputs": [],
   "source": [
    "dfp.shape"
   ]
  },
  {
   "cell_type": "code",
   "execution_count": null,
   "metadata": {},
   "outputs": [],
   "source": [
    "# Balancing dataframe using SMOTE\n",
    "df = SMOTEdf(df,sFile,seed)"
   ]
  },
  {
   "cell_type": "code",
   "execution_count": null,
   "metadata": {},
   "outputs": [],
   "source": [
    "df.shape"
   ]
  },
  {
   "cell_type": "markdown",
   "metadata": {},
   "source": [
    "### ML"
   ]
  },
  {
   "cell_type": "code",
   "execution_count": null,
   "metadata": {},
   "outputs": [],
   "source": [
    "# get ds for ML\n",
    "Xdata, Ydata, Features = getDataFromDataFrame(df)# out var = Class "
   ]
  },
  {
   "cell_type": "code",
   "execution_count": null,
   "metadata": {},
   "outputs": [],
   "source": [
    "# Calculate class weights\n",
    "class_weights = set_weights(Ydata)\n",
    "print(\"Class weights = \", class_weights)"
   ]
  },
  {
   "cell_type": "code",
   "execution_count": null,
   "metadata": {},
   "outputs": [],
   "source": [
    "outer_cv = StratifiedKFold(n_splits=3,shuffle=True,random_state=seed)"
   ]
  },
  {
   "cell_type": "code",
   "execution_count": null,
   "metadata": {},
   "outputs": [],
   "source": [
    "ifold = 0\n",
    "ACCs  =[]\n",
    "AUROCs=[]\n",
    "models =[]\n",
    "SelectedFeatures =[]\n",
    "\n",
    "for train_index, test_index in outer_cv.split(Xdata, Ydata):\n",
    "    ifold +=1\n",
    "    \n",
    "    print(\"Fold =\",ifold)\n",
    "    start = time.time()\n",
    "    \n",
    "    #print(\"TRAIN:\", train_index, \"TEST:\", test_index)\n",
    "    X_train, X_test = Xdata[train_index], Xdata[test_index]\n",
    "    y_train, y_test = Ydata[train_index], Ydata[test_index]\n",
    "\n",
    "    #scaler.transform(X_test)\n",
    "    clf = MLPClassifier(hidden_layer_sizes= (20),\n",
    "                        random_state = seed,\n",
    "                        max_iter=50000, shuffle=False)\n",
    "    clf.fit(X_train, y_train)\n",
    "    \n",
    "    joblib.dump(clf, './best_classifier/MLP_model'+str(ifold)+'.pkl', compress = 1)\n",
    "    models.append(clf)\n",
    "    \n",
    "    y_pred = clf.predict_proba(X_test)\n",
    "    AUROC = roc_auc_score(y_test, y_pred[:, 1])\n",
    "    AUROCs.append(AUROC)\n",
    "    \n",
    "    ACC = clf.score(X_test,y_test)\n",
    "    ACCs.append(ACC)\n",
    "   \n",
    "    print(\"AUROC=\",AUROC,\"ACC=\",ACC, (time.time() - start)/60,\"mins\")"
   ]
  },
  {
   "cell_type": "code",
   "execution_count": null,
   "metadata": {},
   "outputs": [],
   "source": [
    "print(np.mean(AUROCs),np.std(AUROCs))"
   ]
  },
  {
   "cell_type": "code",
   "execution_count": null,
   "metadata": {},
   "outputs": [],
   "source": [
    "print(np.mean(ACCs),np.std(ACCs))"
   ]
  },
  {
   "cell_type": "code",
   "execution_count": null,
   "metadata": {},
   "outputs": [],
   "source": [
    "dfp.shape"
   ]
  },
  {
   "cell_type": "code",
   "execution_count": null,
   "metadata": {},
   "outputs": [],
   "source": [
    "# get ds for ML\n",
    "Xdatap, Ydatap, Featuresp = getDataFromDataFrame(dfp)# out var = Class"
   ]
  },
  {
   "cell_type": "code",
   "execution_count": null,
   "metadata": {},
   "outputs": [],
   "source": [
    "Xdatap.shape"
   ]
  },
  {
   "cell_type": "code",
   "execution_count": null,
   "metadata": {},
   "outputs": [],
   "source": [
    "# load the saved model 2 from disk: AUROC= 0.9807692307692308 ACC= 0.9423076923076923 0.014167205492655436\n",
    "clf = joblib.load('./best_classifier/MLP_model'+str(2)+'.pkl')\n",
    "\n",
    "# predictions with the model\n",
    "Ydatap = clf.predict(Xdatap)\n",
    "        \n",
    "# add probabilities (n_samples X n_classes; class 0, class 1)\n",
    "Ydatapprob = clf.predict_proba(Xdatap)\n",
    "        \n",
    "# save predictions for list 1\n",
    "dffp = pd.DataFrame(Xdatap,columns=Featuresp)\n",
    "dffp['Class'] = Ydatap\n",
    "dffp['Prob0'] = Ydatapprob[:,0]\n",
    "dffp['Prob1'] = Ydatapprob[:,1]"
   ]
  },
  {
   "cell_type": "code",
   "execution_count": null,
   "metadata": {},
   "outputs": [],
   "source": [
    "# merge with protein information from other file\n",
    "# AC.Screening_1_Metastasis.csv, AC.Screening_2_Cancer_Immunotherapy_Genes\n",
    "result = pd.concat([dffp, pd.read_csv('./best_classifier/AC.Screening_3_RBPs.csv')], axis=1)"
   ]
  },
  {
   "cell_type": "code",
   "execution_count": null,
   "metadata": {},
   "outputs": [],
   "source": [
    "# creat new order of columns in final results\n",
    "newHeader=['Class','Prob1','Prob0','V1','V2']\n",
    "result = result[newHeader]\n",
    "result = result.sort_values(by=['Prob1'], ascending=False)\n",
    "result.to_csv(sFilep[:-4]+'_predictions.csv', index=True)"
   ]
  },
  {
   "cell_type": "markdown",
   "metadata": {},
   "source": [
    "Have fun with ML! @muntisa"
   ]
  }
 ],
 "metadata": {
  "kernelspec": {
   "display_name": "Python 3",
   "language": "python",
   "name": "python3"
  },
  "language_info": {
   "codemirror_mode": {
    "name": "ipython",
    "version": 3
   },
   "file_extension": ".py",
   "mimetype": "text/x-python",
   "name": "python",
   "nbconvert_exporter": "python",
   "pygments_lexer": "ipython3",
   "version": "3.5.2"
  }
 },
 "nbformat": 4,
 "nbformat_minor": 2
}
